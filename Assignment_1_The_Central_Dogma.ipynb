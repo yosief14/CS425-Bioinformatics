{
 "cells": [
  {
   "cell_type": "markdown",
   "metadata": {},
   "source": [
    "# CS 425 notebook 1:  the central dogma of molecular biology"
   ]
  },
  {
   "cell_type": "markdown",
   "metadata": {},
   "source": [
    "The objective of this notebook is to understand DNA strand complementarity and the concepts of transcription of DNA to RNA and translation of RNA to protein."
   ]
  },
  {
   "cell_type": "markdown",
   "metadata": {},
   "source": [
    "### Problem 0 - a discussion of Python dictionaries\n",
    "\n",
    "Python dictionaries are a highly effective and efficient way to map keys to values.  Which underlying data structure is used in implementing Python dictionaries?  Given that information what can you say about the computational time required to insert or retrieve a value from a dictionary?\n"
   ]
  },
  {
   "cell_type": "markdown",
   "metadata": {},
   "source": [
    "**A hash table is used to implement dictionaries in python and the computational time required to insert is O(1) because all we do is add the item to the end of the bucket it belongs too. Retrieving is will have a complexity of o(1+a) where a is the load factor which is based on how many items there are in the table divided by how many buckets there are. So if the items are evenly distributed among the buckets of the hash table and there are a lot of buckets relative to the amount of items the load factor will be low and time complexity will be pretty close to O(1). For example n items, n buckets O(1+(n/n)) = O(2) which is a constant. Worst case scenario with all of the items hashing to the same bucket will give us a time complexity of O(1+(n/1)) = O(1+n) which is the same as O(n)**\n"
   ]
  },
  {
   "cell_type": "markdown",
   "metadata": {},
   "source": [
    "### Problem 1 - reverse complement\n",
    "\n",
    "In this problem, we will write a function that is given the string representing a strand of a DNA molecule and returns a string representing the  complementary strand.\n"
   ]
  },
  {
   "cell_type": "code",
   "execution_count": 1,
   "metadata": {},
   "outputs": [],
   "source": [
    "def reverse_complement(sequence):\n",
    "    \"\"\"Returns the reverse complement of the input sequence\"\"\"\n",
    "    reversed_sequence = sequence[::-1].upper()\n",
    "    map_of_complements = {\"A\": \"T\", \"T\": \"A\", \"C\": \"G\", \"G\": \"C\"}\n",
    "    complement = \"\"\n",
    "    for val in reversed_sequence:\n",
    "        try:\n",
    "            complement += map_of_complements[val]\n",
    "        except KeyError:\n",
    "            raise ValueError(\"Invalid string of nucleotides\")\n",
    "    return complement\n",
    "\n",
    "    "
   ]
  },
  {
   "cell_type": "code",
   "execution_count": 2,
   "metadata": {},
   "outputs": [
    {
     "name": "stdout",
     "output_type": "stream",
     "text": [
      "SUCCESS: all tests for reverse_complement passed!\n"
     ]
    }
   ],
   "source": [
    "# tests for reverse_complement\n",
    "assert reverse_complement(\"A\") == \"T\"\n",
    "assert reverse_complement(\"ATCG\") == \"CGAT\"\n",
    "assert reverse_complement(\"\") == \"\"\n",
    "assert reverse_complement(\"GAATTC\") == \"GAATTC\", \"Failed on palindromic EcoR1 recognition sequence\"\n",
    "print(\"SUCCESS: all tests for reverse_complement passed!\")"
   ]
  },
  {
   "cell_type": "markdown",
   "metadata": {},
   "source": [
    "### Problem 2 - transcription\n",
    "\n",
    "Write a function that takes as input a string representing a DNA sequence and outputs the string representing the RNA that would result from transcribing this DNA sequence."
   ]
  },
  {
   "cell_type": "markdown",
   "metadata": {},
   "source": [
    "As a hint, there is a [string method](https://docs.python.org/3/library/stdtypes.html#string-methods) that will allow you to do this in one line."
   ]
  },
  {
   "cell_type": "code",
   "execution_count": 3,
   "metadata": {},
   "outputs": [],
   "source": [
    "def transcribe(sequence):\n",
    "    return sequence.replace(\"T\", \"U\")"
   ]
  },
  {
   "cell_type": "markdown",
   "metadata": {},
   "source": [
    "### Problem 3 - translation\n",
    "\n",
    "In this problem you will write a function that translates an RNA sequence into the protein sequence for which it codes.  Recall that each codon is translated into an amino acid, where codons are nonoverlapping substrings of length three.\n",
    "To assist you in this task, here is a Python dictionary that represents the standard genetic code:"
   ]
  },
  {
   "cell_type": "code",
   "execution_count": 4,
   "metadata": {},
   "outputs": [],
   "source": [
    "genetic_code = {\n",
    " 'AAA': 'K', 'AAC': 'N', 'AAG': 'K', 'AAU': 'N',\n",
    " 'ACA': 'U', 'ACC': 'U', 'ACG': 'U', 'ACU': 'U',\n",
    " 'AGA': 'R', 'AGC': 'S', 'AGG': 'R', 'AGU': 'S',\n",
    " 'AUA': 'I', 'AUC': 'I', 'AUG': 'M', 'AUU': 'I',\n",
    " 'CAA': 'Q', 'CAC': 'H', 'CAG': 'Q', 'CAU': 'H',\n",
    " 'CCA': 'P', 'CCC': 'P', 'CCG': 'P', 'CCU': 'P',\n",
    " 'CGA': 'R', 'CGC': 'R', 'CGG': 'R', 'CGU': 'R',\n",
    " 'CUA': 'L', 'CUC': 'L', 'CUG': 'L', 'CUU': 'L',\n",
    " 'GAA': 'E', 'GAC': 'D', 'GAG': 'E', 'GAU': 'D',\n",
    " 'GCA': 'A', 'GCC': 'A', 'GCG': 'A', 'GCU': 'A',\n",
    " 'GGA': 'G', 'GGC': 'G', 'GGG': 'G', 'GGU': 'G',\n",
    " 'GUA': 'V', 'GUC': 'V', 'GUG': 'V', 'GUU': 'V',\n",
    " 'UAA': '*', 'UAC': 'Y', 'UAG': '*', 'UAU': 'Y',\n",
    " 'UCA': 'S', 'UCC': 'S', 'UCG': 'S', 'UCU': 'S',\n",
    " 'UGA': '*', 'UGC': 'C', 'UGG': 'W', 'UGU': 'C',\n",
    " 'UUA': 'L', 'UUC': 'F', 'UUG': 'L', 'UUU': 'F'}"
   ]
  },
  {
   "cell_type": "code",
   "execution_count": 5,
   "metadata": {},
   "outputs": [],
   "source": [
    "def translate_rna_fragment(rna_sequence):\n",
    "    \"\"\"\n",
    "    Returns the protein sequence resulting from translation of \n",
    "    a given RNA sequence\n",
    "    \"\"\"\n",
    "    rna_sequence_upper = rna_sequence.upper()\n",
    "    protein_sequence = \"\"\n",
    "    for i in range(0, len(rna_sequence_upper), 3):\n",
    "        codon = rna_sequence_upper[i:i+3]\n",
    "        try:\n",
    "            protein_sequence+=genetic_code[codon]\n",
    "        except KeyError:\n",
    "            raise ValueError(\"Invalid string of nucleotides: \" + codon)\n",
    "    return protein_sequence"
   ]
  },
  {
   "cell_type": "code",
   "execution_count": 6,
   "metadata": {},
   "outputs": [
    {
     "name": "stdout",
     "output_type": "stream",
     "text": [
      "SUCCESS: translate_rna_fragment passed all tests!\n"
     ]
    }
   ],
   "source": [
    "assert translate_rna_fragment(\"UUUGCGACUUAU\") == \"FAUY\", \"Failed on input 'UUUGCGACUUAU'\"\n",
    "assert translate_rna_fragment(\"ACG\") == \"U\", \"Failed on input 'UGA'\"\n",
    "assert translate_rna_fragment(\"\") == \"\", \"Failed on the empty string\"\n",
    "print(\"SUCCESS: translate_rna_fragment passed all tests!\")"
   ]
  },
  {
   "cell_type": "markdown",
   "metadata": {},
   "source": [
    "### Problem 4 - Consequences of the deltaF508 mutation in CFTR \n",
    "\n",
    "One of the most famous disease causing mutations in humans is the deltaF508 mutation in the *CFTR* gene.  This is the most common mutation among people with Cystic Fibrosis.  This mutation occurs in the gene fragment shown below and corresponds to the deletion of 3 consecutive bases, starting at base 129 (using 1-based indexing).  The code below shows how to \"slice\" the string representing this gene fragment to determine the identity of the 3 bases that are deleted by this mutation.\n",
    "\n",
    "We will now examine how the deltaF508 mutation impacts the resulting amino acid sequence of the encoded protein.  Here is the sequence of the CFTR gene fragment (sense strand)."
   ]
  },
  {
   "cell_type": "code",
   "execution_count": 7,
   "metadata": {},
   "outputs": [],
   "source": [
    "cftr_gene_fragment = (\"ACTTCACTTCTAATGGTGATTATGGGAGAACTGGAGCCTTCAGAGGGTAA\"\n",
    "                      \"AATTAAGCACAGTGGAAGAATTTCATTCTGTTCTCAGTTTTCCTGGATTA\"\n",
    "                      \"TGCCTGGCACCATTAAAGAAAATATCATCTTTGGTGTTTCCTATGATGAA\"\n",
    "                      \"TATAGATACAGAAGCGTCATCAAAGCATGCCAACTAGAAGAG\")"
   ]
  },
  {
   "cell_type": "markdown",
   "metadata": {},
   "source": [
    "And here is the sequence of the mutated CFTR gene fragment, which has bases 129, 130, and 131 (1-based coordinates) removed:"
   ]
  },
  {
   "cell_type": "code",
   "execution_count": 8,
   "metadata": {},
   "outputs": [
    {
     "name": "stdout",
     "output_type": "stream",
     "text": [
      "ACTTCACTTCTAATGGTGATTATGGGAGAACTGGAGCCTTCAGAGGGTAAAATTAAGCACAGTGGAAGAATTTCATTCTGTTCTCAGTTTTCCTGGATTATGCCTGGCACCATTAAAGAAAATATCATTGGTGTTTCCTATGATGAATATAGATACAGAAGCGTCATCAAAGCATGCCAACTAGAAGAG\n"
     ]
    }
   ],
   "source": [
    "deltaf508_fragment = cftr_gene_fragment[:128] +cftr_gene_fragment[131:]\n",
    "print(deltaf508_fragment)"
   ]
  },
  {
   "cell_type": "markdown",
   "metadata": {},
   "source": [
    "What are the consequences of this mutation on the protein sequence of this gene?\n",
    "Keep in mind that the first three bases of the fragment are a codon.  Note that it's possible to answer this simply by considering the coordinates of the mutation.  You can then verify your answer using your translation function."
   ]
  },
  {
   "cell_type": "markdown",
   "metadata": {},
   "source": [
    "**A: These 3 bases of the fragment that were deleted happened at the start of the last index of a codon so now all of the bases from index 132 and on are shifted over to the left by 2 causing the F polypeptide to not be coded for and possibly other changes.**"
   ]
  },
  {
   "cell_type": "markdown",
   "metadata": {},
   "source": [
    "### **Investigating Changes after deletions** ###\n",
    "\n",
    "\n",
    "So it looks like the protein structure has lost the a polypeptide but it looks the same otherwise pretty similar."
   ]
  },
  {
   "cell_type": "code",
   "execution_count": 9,
   "metadata": {},
   "outputs": [
    {
     "name": "stdout",
     "output_type": "stream",
     "text": [
      "USLLMVIMGELEPSEGKIKHSGRISFCSQFSWIMPGUIKENIIFGVSYDEYRYRSVIKACQLEE\n",
      "USLLMVIMGELEPSEGKIKHSGRISFCSQFSWIMPGUIKENIIGVSYDEYRYRSVIKACQLEE\n"
     ]
    }
   ],
   "source": [
    "cftr_gene_fragment_rna = transcribe(cftr_gene_fragment)\n",
    "deltaf508_fragment_rna = transcribe(deltaf508_fragment)\n",
    "\n",
    "cftr_protein = translate_rna_fragment(cftr_gene_fragment_rna)\n",
    "deltaf508_protein = translate_rna_fragment(deltaf508_fragment_rna)\n",
    "print(cftr_protein)\n",
    "print(deltaf508_protein)\n"
   ]
  },
  {
   "cell_type": "markdown",
   "metadata": {},
   "source": [
    "I will compared the 2 protein strings above to confirm that the F polypeptide is now gone and to see if there where any other changes in the protein structure after the base deletions."
   ]
  },
  {
   "cell_type": "code",
   "execution_count": 11,
   "metadata": {},
   "outputs": [
    {
     "name": "stdout",
     "output_type": "stream",
     "text": [
      "  U    S    L    L    M    V    I    M    G    E    L    E    P    S    E    G    K    I    K    H    S    G    R    I    S    F    C    S    Q    F    S    W    I    M    P    G    U    I    K    E    N    I    I  - F    G    V    S    Y    D    E    Y    R    Y    R    S    V    I    K    A    C    Q    L    E    E\n"
     ]
    }
   ],
   "source": [
    "import difflib\n",
    "d = difflib.Differ()\n",
    "\n",
    "diff = d.compare(cftr_protein, deltaf508_protein)\n",
    "print(\"  \".join(diff))\n"
   ]
  },
  {
   "cell_type": "markdown",
   "metadata": {},
   "source": [
    "So the only change I noticed was the deletion of the F polypeptide, but I imagine a lot more can change if base deletions occur in the middle of a codon. "
   ]
  }
 ],
 "metadata": {
  "kernelspec": {
   "display_name": "Python 3 (ipykernel)",
   "language": "python",
   "name": "python3"
  },
  "language_info": {
   "codemirror_mode": {
    "name": "ipython",
    "version": 3
   },
   "file_extension": ".py",
   "mimetype": "text/x-python",
   "name": "python",
   "nbconvert_exporter": "python",
   "pygments_lexer": "ipython3",
   "version": "3.11.0"
  }
 },
 "nbformat": 4,
 "nbformat_minor": 4
}
